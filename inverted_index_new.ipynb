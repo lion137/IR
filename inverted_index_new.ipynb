{
 "cells": [
  {
   "cell_type": "code",
   "execution_count": 83,
   "metadata": {},
   "outputs": [
    {
     "name": "stdout",
     "output_type": "stream",
     "text": [
      "The autoreload extension is already loaded. To reload it, use:\n",
      "  %reload_ext autoreload\n"
     ]
    }
   ],
   "source": [
    "#from collections import defaultdict\n",
    "#from nltk.tokenize import word_tokenize, RegexpTokenizer\n",
    "from imports import *\n",
    "%load_ext autoreload\n",
    "%autoreload 2"
   ]
  },
  {
   "cell_type": "code",
   "execution_count": 90,
   "metadata": {},
   "outputs": [],
   "source": [
    "def create_index (data):\n",
    "        index = defaultdict(list)\n",
    "        for i, tokens in enumerate(data):\n",
    "            for token in tokens:\n",
    "                if i not in index[token]:\n",
    "                    index[token].append(i)\n",
    "        return index\n",
    "\n",
    "def make_dictionary(data):\n",
    "    \"\"\"returns a dictionary as a list of pairs:\n",
    "    token and it's frequency\"\"\"\n",
    "    tmp = (len(x) for x in data.values())\n",
    "    d = {x : y for (x, y) in zip(data.keys(), tmp)}\n",
    "    return d\n",
    "\n",
    "def tokenize(text):\n",
    "    tokenizer = RegexpTokenizer(r'\\w+')\n",
    "    tokens = tokenizer.tokenize(text)\n",
    "    tokens = [t.lower() for t in tokens]\n",
    "    return tokens\n",
    "\n"
   ]
  },
  {
   "cell_type": "code",
   "execution_count": 85,
   "metadata": {},
   "outputs": [],
   "source": [
    "doc = \"\"\"I did enact Julius Caesar: I was killed\n",
    "i’ the Capitol; Brutus killed me\"\"\"\n",
    "doc1 = \"\"\"So let it be with Caesar.  The noble Brutus\n",
    "hath told you Caesar was ambitious\"\"\"\n",
    "data = [tokenize(e) for e in [doc, doc1]]\n"
   ]
  },
  {
   "cell_type": "code",
   "execution_count": 129,
   "metadata": {},
   "outputs": [
    {
     "data": {
      "text/plain": [
       "'hath'"
      ]
     },
     "execution_count": 129,
     "metadata": {},
     "output_type": "execute_result"
    }
   ],
   "source": [
    "index = create_index(data)\n",
    "pp1 = [1, 2, 4, 11, 31, 45 , 173, 174]\n",
    "pp2 = [2, 31, 54, 101]\n",
    "pp3 = []\n",
    "inter = [2, 31]\n",
    "d = make_dictionary(index)\n",
    "pp1_s = set(pp1)\n",
    "pp2_s = set(pp2)\n",
    "pp1_s.union(pp2_s)\n",
    "dd = sorted(index.items())\n",
    "dd[7][0]"
   ]
  },
  {
   "cell_type": "code",
   "execution_count": 93,
   "metadata": {},
   "outputs": [
    {
     "data": {
      "text/plain": [
       "defaultdict(list,\n",
       "            {'i': [0],\n",
       "             'did': [0],\n",
       "             'enact': [0],\n",
       "             'julius': [0],\n",
       "             'caesar': [0, 1],\n",
       "             'was': [0, 1],\n",
       "             'killed': [0],\n",
       "             'the': [0, 1],\n",
       "             'capitol': [0],\n",
       "             'brutus': [0, 1],\n",
       "             'me': [0],\n",
       "             'so': [1],\n",
       "             'let': [1],\n",
       "             'it': [1],\n",
       "             'be': [1],\n",
       "             'with': [1],\n",
       "             'noble': [1],\n",
       "             'hath': [1],\n",
       "             'told': [1],\n",
       "             'you': [1],\n",
       "             'ambitious': [1]})"
      ]
     },
     "execution_count": 93,
     "metadata": {},
     "output_type": "execute_result"
    }
   ],
   "source": [
    "index"
   ]
  },
  {
   "cell_type": "code",
   "execution_count": null,
   "metadata": {},
   "outputs": [],
   "source": []
  },
  {
   "cell_type": "code",
   "execution_count": 7,
   "metadata": {},
   "outputs": [],
   "source": [
    "def get_postings(word):\n",
    "    return index[word]\n",
    "\n",
    "def get_frequencies(word):\n",
    "    return d[word] if word in d.keys() else f\"get_frequencies: {word} not in a list\"\n"
   ]
  },
  {
   "cell_type": "code",
   "execution_count": 8,
   "metadata": {},
   "outputs": [
    {
     "data": {
      "text/plain": [
       "[]"
      ]
     },
     "execution_count": 8,
     "metadata": {},
     "output_type": "execute_result"
    }
   ],
   "source": [
    "get_postings('Caesar')\n",
    "#get_frequencies('I')"
   ]
  },
  {
   "cell_type": "code",
   "execution_count": 170,
   "metadata": {},
   "outputs": [],
   "source": [
    "def doc_id(l_elem):\n",
    "    \"\"\"Not needed now, but will be in the future\"\"\"\n",
    "    return l_elem\n",
    "\n",
    "def intersect(p1, p2):\n",
    "    output = []\n",
    "    i = 0\n",
    "    k = 0\n",
    "    p1_lim = len(p1)\n",
    "    p2_lim = len(p2)\n",
    "    while i < p1_lim and k < p2_lim:\n",
    "        if doc_id(p1[i]) == doc_id(p2[k]):\n",
    "            output.append(doc_id(p1[i]))\n",
    "            i += 1\n",
    "            k += 1\n",
    "        elif doc_id(p1[i]) < doc_id(p2[k]):\n",
    "                i += 1\n",
    "        else:\n",
    "            k += 1\n",
    "    return output\n",
    "\n",
    "def union(p1, p2):\n",
    "    return set(p1).union(set(p2))\n",
    "\n",
    "def intersect2(p1, p2):\n",
    "    return set(p1).intersection(set(p2))\n",
    "\n",
    "def not_(p, ind):\n",
    "    return set(ind).difference(set(p)) \n",
    "    "
   ]
  },
  {
   "cell_type": "code",
   "execution_count": 174,
   "metadata": {},
   "outputs": [
    {
     "data": {
      "text/plain": [
       "{0,\n",
       " 3,\n",
       " 5,\n",
       " 6,\n",
       " 7,\n",
       " 8,\n",
       " 9,\n",
       " 10,\n",
       " 12,\n",
       " 13,\n",
       " 14,\n",
       " 15,\n",
       " 16,\n",
       " 17,\n",
       " 18,\n",
       " 19,\n",
       " 20,\n",
       " 21,\n",
       " 22,\n",
       " 23,\n",
       " 24,\n",
       " 25,\n",
       " 26,\n",
       " 27,\n",
       " 28,\n",
       " 29,\n",
       " 30,\n",
       " 32,\n",
       " 33,\n",
       " 34,\n",
       " 35,\n",
       " 36,\n",
       " 37,\n",
       " 38,\n",
       " 39,\n",
       " 40,\n",
       " 41,\n",
       " 42,\n",
       " 43,\n",
       " 44,\n",
       " 46,\n",
       " 47,\n",
       " 48,\n",
       " 49,\n",
       " 50,\n",
       " 51,\n",
       " 52,\n",
       " 53,\n",
       " 54,\n",
       " 55,\n",
       " 56,\n",
       " 57,\n",
       " 58,\n",
       " 59,\n",
       " 60,\n",
       " 61,\n",
       " 62,\n",
       " 63,\n",
       " 64,\n",
       " 65,\n",
       " 66,\n",
       " 67,\n",
       " 68,\n",
       " 69,\n",
       " 70,\n",
       " 71,\n",
       " 72,\n",
       " 73,\n",
       " 74,\n",
       " 75,\n",
       " 76,\n",
       " 77,\n",
       " 78,\n",
       " 79,\n",
       " 80,\n",
       " 81,\n",
       " 82,\n",
       " 83,\n",
       " 84,\n",
       " 85,\n",
       " 86,\n",
       " 87,\n",
       " 88,\n",
       " 89,\n",
       " 90,\n",
       " 91,\n",
       " 92,\n",
       " 93,\n",
       " 94,\n",
       " 95,\n",
       " 96,\n",
       " 97,\n",
       " 98,\n",
       " 99,\n",
       " 100,\n",
       " 101,\n",
       " 102,\n",
       " 103,\n",
       " 104,\n",
       " 105,\n",
       " 106,\n",
       " 107,\n",
       " 108,\n",
       " 109,\n",
       " 110,\n",
       " 111,\n",
       " 112,\n",
       " 113,\n",
       " 114,\n",
       " 115,\n",
       " 116,\n",
       " 117,\n",
       " 118,\n",
       " 119,\n",
       " 120,\n",
       " 121,\n",
       " 122,\n",
       " 123,\n",
       " 124,\n",
       " 125,\n",
       " 126,\n",
       " 127,\n",
       " 128,\n",
       " 129,\n",
       " 130,\n",
       " 131,\n",
       " 132,\n",
       " 133,\n",
       " 134,\n",
       " 135,\n",
       " 136,\n",
       " 137,\n",
       " 138,\n",
       " 139,\n",
       " 140,\n",
       " 141,\n",
       " 142,\n",
       " 143,\n",
       " 144,\n",
       " 145,\n",
       " 146,\n",
       " 147,\n",
       " 148,\n",
       " 149,\n",
       " 150,\n",
       " 151,\n",
       " 152,\n",
       " 153,\n",
       " 154,\n",
       " 155,\n",
       " 156,\n",
       " 157,\n",
       " 158,\n",
       " 159,\n",
       " 160,\n",
       " 161,\n",
       " 162,\n",
       " 163,\n",
       " 164,\n",
       " 165,\n",
       " 166,\n",
       " 167,\n",
       " 168,\n",
       " 169,\n",
       " 170,\n",
       " 171,\n",
       " 172}"
      ]
     },
     "execution_count": 174,
     "metadata": {},
     "output_type": "execute_result"
    }
   ],
   "source": [
    "intersect2(pp2, pp1)\n",
    "#union(pp2, pp1)\n",
    "not_(pp1, list(range(175)))\n",
    "# pp1 = [1, 2, 4, 11, 31, 45 , 173, 174]"
   ]
  },
  {
   "cell_type": "code",
   "execution_count": 11,
   "metadata": {},
   "outputs": [
    {
     "name": "stdout",
     "output_type": "stream",
     "text": [
      "[[['ambitious', 1], [2]], [['be', 1], [2]], [['brutus', 2], [1, 2]], [['caesar', 2], [1, 2]], [['capitol', 1], [1]], [['did', 1], [1]], [['enact', 1], [1]], [['hath', 1], [2]], [['i', 1], [1]], [['it', 1], [2]], [['julius', 1], [1]], [['killed', 1], [1]], [['let', 1], [2]], [['me', 1], [1]], [['noble', 1], [2]], [['so', 1], [2]], [['the', 2], [1, 2]], [['told', 1], [2]], [['was', 2], [1, 2]], [['with', 1], [2]], [['you', 1], [2]]]\n"
     ]
    }
   ],
   "source": [
    "from nltk.tokenize import word_tokenize, RegexpTokenizer\n",
    "\n",
    "\n",
    "def tokenize(text):\n",
    "    tokenizer = RegexpTokenizer(r'\\w+')\n",
    "    tokens = tokenizer.tokenize(text)\n",
    "    tokens = [t.lower() for t in tokens]\n",
    "    return tokens\n",
    "\n",
    "\n",
    "def remove_duplicates(xs):\n",
    "    s = []\n",
    "    for x in xs:\n",
    "        if x not in s:\n",
    "            s.append(x)\n",
    "    return s\n",
    "\n",
    "\n",
    "def inv_index(xs):\n",
    "    ls = []\n",
    "    d = []\n",
    "    t_el = xs[0][0]\n",
    "    ls.append(xs[0][1])\n",
    "    t_f = 1\n",
    "    limit = len(xs)\n",
    "    if limit == 1:\n",
    "        d.append([[t_el, t_f], ls])\n",
    "        return d\n",
    "    for i in range(1, limit):\n",
    "        if t_el == xs[i][0]:\n",
    "            ls.append(xs[i][1])\n",
    "            t_f += 1\n",
    "            if i == limit - 1:\n",
    "                d.append([[t_el, t_f], ls])\n",
    "                return d\n",
    "            continue\n",
    "        d.append([[t_el, t_f], ls])\n",
    "        ls =[]\n",
    "        t_f = 0\n",
    "        t_el = xs[i][0]\n",
    "        t_f = 1\n",
    "        ls.append(xs[i][1])\n",
    "        if i == limit - 1:\n",
    "            d.append([[t_el, t_f], ls])\n",
    "    return d\n",
    "\n",
    "\n",
    "def term_doc_id_list(xs):\n",
    "    ys = []\n",
    "    i = 1\n",
    "    for ind, doc in enumerate(xs):\n",
    "        ys += list(map(lambda x: [x, i], doc))\n",
    "        i += 1\n",
    "    return ys\n",
    "\n",
    "\n",
    "def make_inverted_index(xs):\n",
    "    \"\"\"Makes inverted index from list of\n",
    "    documents, working with RAM\"\"\"\n",
    "    docs = map(tokenize, xs)\n",
    "    docs = term_doc_id_list(docs)\n",
    "    docs = sorted(docs)\n",
    "    docs = remove_duplicates(docs)\n",
    "    return inv_index(docs)\n",
    "\n",
    "\n",
    "if __name__ == '__main__':\n",
    "    doc = \"\"\"I did enact Julius Caesar: I was killed\n",
    "i’ the Capitol; Brutus killed me\"\"\"\n",
    "    doc1 = \"\"\"So let it be with Caesar.  The noble Brutus\n",
    "hath told you Caesar was ambitious\"\"\"\n",
    "    docs = [doc, doc1]\n",
    "\n",
    "\n",
    "    print(make_inverted_index(docs))"
   ]
  },
  {
   "cell_type": "code",
   "execution_count": 164,
   "metadata": {},
   "outputs": [],
   "source": [
    "from inerted_index_class import *"
   ]
  },
  {
   "cell_type": "code",
   "execution_count": 131,
   "metadata": {},
   "outputs": [
    {
     "data": {
      "text/plain": [
       "['I did enact Julius Caesar: I was killed\\ni’ the Capitol; Brutus killed me',\n",
       " 'So let it be with Caesar.  The noble Brutus\\nhath told you Caesar was ambitious']"
      ]
     },
     "execution_count": 131,
     "metadata": {},
     "output_type": "execute_result"
    }
   ],
   "source": [
    "docs\n"
   ]
  },
  {
   "cell_type": "code",
   "execution_count": 165,
   "metadata": {},
   "outputs": [],
   "source": [
    "texts = InvertedIndex(docs)"
   ]
  },
  {
   "cell_type": "code",
   "execution_count": 167,
   "metadata": {},
   "outputs": [
    {
     "data": {
      "text/plain": [
       "[0, 1]"
      ]
     },
     "execution_count": 167,
     "metadata": {},
     "output_type": "execute_result"
    }
   ],
   "source": [
    "texts.data_index"
   ]
  },
  {
   "cell_type": "code",
   "execution_count": 70,
   "metadata": {},
   "outputs": [],
   "source": [
    "l = list(range(10*9))\n",
    "#2.37 µs ± 78.1 ns per loop (mean ± std. dev. of 7 runs, 100000 loops each)"
   ]
  },
  {
   "cell_type": "code",
   "execution_count": 175,
   "metadata": {},
   "outputs": [
    {
     "data": {
      "text/plain": [
       "{1}"
      ]
     },
     "execution_count": 175,
     "metadata": {},
     "output_type": "execute_result"
    }
   ],
   "source": [
    "union(texts.get_postings('with'), texts.get_postings('with'))"
   ]
  },
  {
   "cell_type": "code",
   "execution_count": null,
   "metadata": {},
   "outputs": [],
   "source": []
  },
  {
   "cell_type": "code",
   "execution_count": 176,
   "metadata": {},
   "outputs": [],
   "source": [
    "class A: pass"
   ]
  },
  {
   "cell_type": "code",
   "execution_count": 177,
   "metadata": {},
   "outputs": [],
   "source": [
    "a = A()"
   ]
  },
  {
   "cell_type": "code",
   "execution_count": 178,
   "metadata": {},
   "outputs": [],
   "source": [
    "a.y = 1"
   ]
  },
  {
   "cell_type": "code",
   "execution_count": 189,
   "metadata": {},
   "outputs": [],
   "source": [
    "class B:\n",
    "    def square(self, x):\n",
    "        return x * x"
   ]
  },
  {
   "cell_type": "code",
   "execution_count": 190,
   "metadata": {},
   "outputs": [],
   "source": [
    "b = B()"
   ]
  },
  {
   "cell_type": "code",
   "execution_count": 199,
   "metadata": {},
   "outputs": [
    {
     "data": {
      "text/plain": [
       "<function __main__.B.square(self, x)>"
      ]
     },
     "execution_count": 199,
     "metadata": {},
     "output_type": "execute_result"
    }
   ],
   "source": [
    "B.square"
   ]
  },
  {
   "cell_type": "code",
   "execution_count": 201,
   "metadata": {},
   "outputs": [
    {
     "data": {
      "text/plain": [
       "4"
      ]
     },
     "execution_count": 201,
     "metadata": {},
     "output_type": "execute_result"
    }
   ],
   "source": [
    "square = b.square\n",
    "square(2)"
   ]
  },
  {
   "cell_type": "code",
   "execution_count": 209,
   "metadata": {},
   "outputs": [
    {
     "data": {
      "text/plain": [
       "[1, 4, 9]"
      ]
     },
     "execution_count": 209,
     "metadata": {},
     "output_type": "execute_result"
    }
   ],
   "source": [
    "list(map(b.square, [1, 2, 3]))"
   ]
  },
  {
   "cell_type": "code",
   "execution_count": 210,
   "metadata": {},
   "outputs": [
    {
     "data": {
      "text/plain": [
       "['__class__',\n",
       " '__delattr__',\n",
       " '__dict__',\n",
       " '__dir__',\n",
       " '__doc__',\n",
       " '__eq__',\n",
       " '__format__',\n",
       " '__ge__',\n",
       " '__getattribute__',\n",
       " '__gt__',\n",
       " '__hash__',\n",
       " '__init__',\n",
       " '__init_subclass__',\n",
       " '__le__',\n",
       " '__lt__',\n",
       " '__module__',\n",
       " '__ne__',\n",
       " '__new__',\n",
       " '__reduce__',\n",
       " '__reduce_ex__',\n",
       " '__repr__',\n",
       " '__setattr__',\n",
       " '__sizeof__',\n",
       " '__str__',\n",
       " '__subclasshook__',\n",
       " '__weakref__',\n",
       " 'square']"
      ]
     },
     "execution_count": 210,
     "metadata": {},
     "output_type": "execute_result"
    }
   ],
   "source": [
    "dir(b)"
   ]
  }
 ],
 "metadata": {
  "kernelspec": {
   "display_name": "Python 3",
   "language": "python",
   "name": "python3"
  },
  "language_info": {
   "codemirror_mode": {
    "name": "ipython",
    "version": 3
   },
   "file_extension": ".py",
   "mimetype": "text/x-python",
   "name": "python",
   "nbconvert_exporter": "python",
   "pygments_lexer": "ipython3",
   "version": "3.7.0"
  }
 },
 "nbformat": 4,
 "nbformat_minor": 2
}
